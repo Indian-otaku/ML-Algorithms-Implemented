{
 "cells": [
  {
   "cell_type": "code",
   "execution_count": 72,
   "metadata": {},
   "outputs": [],
   "source": [
    "import numpy as np\n",
    "import pandas as pd\n",
    "from sklearn.model_selection import train_test_split\n",
    "import matplotlib.pyplot as plt\n",
    "plt.style.use('ggplot')"
   ]
  },
  {
   "cell_type": "code",
   "execution_count": 83,
   "metadata": {},
   "outputs": [],
   "source": [
    "class LinearRegressionWithGD():\n",
    "    \"\"\"\n",
    "    alpha: learning rate.\n",
    "    epochs: no of iterations for gradient descent.\n",
    "    random_state: for setting seed value.\n",
    "    convergence_test: for automatic convergence test. If true then set value for epsilon. \n",
    "    epsilon: value to stop the convergence test.\n",
    "\n",
    "    attributes:\n",
    "    w_: weight matrix.\n",
    "    b_: bias vector.\n",
    "    \n",
    "    methods: \n",
    "    fit(X, y): \n",
    "            Used for training the linear regression model.\n",
    "            X: numpy array, pandas dataframe or series.\n",
    "            y: numpy array or pandas series\n",
    "    predict(X): \n",
    "            Used for getting the predicted values.\n",
    "            X: numpy array, pandas dataframe or series\n",
    "    parameter_values(): \n",
    "            Displays all the parameters values.\n",
    "    loss_function(X, y):\n",
    "            Used for calculating the loss function.\n",
    "            X: numpy array, pandas dataframe or series\n",
    "            y: numpy array or pandas series\n",
    "    plot_loss_with_epochs():\n",
    "            Epochs vs loss function graph for plotting learning curve.\n",
    "    \"\"\"\n",
    "\n",
    "    def __init__(self, alpha=0.0001, epochs=10000, random_state=0, convergence_test=False, epsilon=22000000):\n",
    "        self.alpha = alpha\n",
    "        self.epochs = epochs\n",
    "        self.convergence_test = convergence_test\n",
    "        self.epsilon = epsilon\n",
    "        np.random.seed(random_state)\n",
    "\n",
    "\n",
    "    def fit(self, X, y):\n",
    "        \"\"\"\n",
    "        For training the Linear Regression model.\n",
    "        X: numpy array, pandas dataframe or series.\n",
    "        y: numpy array or pandas series\n",
    "        \"\"\"\n",
    "        # If number of observations in X & y is not same then raise error\n",
    "        if (X.shape[0] != y.shape[0]):\n",
    "            raise ValueError(\"No of observations aren't same!\")\n",
    "        # If inputs are in pandas Dataframe or Series format convert to numpy arrays.\n",
    "        if (type(X) == pd.DataFrame):\n",
    "            X = X.to_numpy()\n",
    "        elif (type(X) == pd.Series):\n",
    "            X = X.to_numpy().reshape((X.shape[0],1))\n",
    "        # If inputs are in pandas Series format convert to numpy array and reshape it.\n",
    "        if (type(y) == pd.Series):\n",
    "            y = y.to_numpy().reshape(y.shape[0],1)\n",
    "\n",
    "        self.w_ = np.zeros((X.shape[1], 1))\n",
    "        self.b_ = 0.0\n",
    "        self.n_observations = X.shape[0]\n",
    "        self._loss_plot = np.array([])\n",
    "        self._epoch_cost_list = np.array([])\n",
    "\n",
    "        for i in range(self.epochs):\n",
    "            y_pred = np.dot(X,self.w_) + self.b_\n",
    "            _loss = y - y_pred\n",
    "\n",
    "            gradient_w_ = -(2/self.n_observations) * np.sum((np.dot(X.T, _loss)).T, axis=0)\n",
    "            gradient_b_ = -(2/self.n_observations) * np.sum(_loss)\n",
    "\n",
    "            self.w_ = self.w_ - self.alpha * gradient_w_.reshape(gradient_w_.shape[0],1)\n",
    "            self.b_ = self.b_ - self.alpha * gradient_b_\n",
    "\n",
    "            self._calculate_epoch_cost_list(X, y, i)\n",
    "            \n",
    "            if (self.convergence_test and (self._epoch_cost_list[i,1] <= self.epsilon)):\n",
    "                break\n",
    "            \n",
    "        return self\n",
    "\n",
    "\n",
    "    def _calculate_epoch_cost_list(self, X, y, epoch):\n",
    "        size = self._epoch_cost_list.shape[0]\n",
    "        self._epoch_cost_list = np.append(self._epoch_cost_list, [epoch, self.loss_function(X, y)])\n",
    "        self._epoch_cost_list =  self._epoch_cost_list.reshape(size+1,2)\n",
    "\n",
    "\n",
    "    def predict(self, X):\n",
    "        # If inputs are in pandas Dataframe format convert to numpy arrays.\n",
    "        predictions = np.zeros(shape=(X.shape[0], self.w_.shape[1]))\n",
    "        if (type(X) == pd.DataFrame):\n",
    "            X = X.to_numpy()\n",
    "        elif (type(X) == pd.Series):\n",
    "            X = X.to_numpy().reshape((X.shape[0],1))\n",
    "        return np.dot(X,self.w_)+self.b_\n",
    "\n",
    "\n",
    "    def parameter_values(self):\n",
    "        for i,wi in enumerate(self.w_):\n",
    "            print(\"W\",i,\": \",wi[0],sep=\"\")\n",
    "        print(\"b: \",self.b_)\n",
    "\n",
    "\n",
    "    def loss_function(self, X, y):\n",
    "        # If number of observations in X & y is not same then raise error\n",
    "        if (X.shape[0] != y.shape[0]):\n",
    "            raise ValueError(\"No of observations aren't same!\")\n",
    "        # If inputs are in pandas Dataframe or Series format convert to numpy arrays.\n",
    "        if (type(X) == pd.DataFrame):\n",
    "            X = X.to_numpy()\n",
    "        elif (type(X) == pd.Series):\n",
    "            X = X.to_numpy().reshape((X.shape[0],1))\n",
    "        # If inputs are in pandas Series format convert to numpy array and reshape it.\n",
    "        if (type(y) == pd.Series):\n",
    "            y = y.to_numpy().reshape(y.shape[0],1)\n",
    "            \n",
    "        y_pred = np.dot(X,self.w_) + self.b_\n",
    "        mean_square_loss = np.sum((y - y_pred)**2, axis=0) / self.n_observations\n",
    "        return mean_square_loss[0]\n",
    "    \n",
    "\n",
    "    def plot_loss_with_epochs(self):\n",
    "        plt.plot(self._epoch_cost_list[:,0],self._epoch_cost_list[:,1])\n",
    "        plt.xlabel(\"Epochs\")\n",
    "        plt.ylabel(\"Mean Squared Loss\")\n",
    "        plt.show()  \n",
    "\n",
    "    "
   ]
  },
  {
   "cell_type": "code",
   "execution_count": 84,
   "metadata": {},
   "outputs": [],
   "source": [
    "data = pd.read_csv(\"Salary_Data.csv\")\n",
    "X = data['YearsExperience'] \n",
    "y = data['Salary']\n",
    "X_train, X_test, y_train, y_test = train_test_split(X, y, train_size=0.8,random_state=100,shuffle=True)"
   ]
  },
  {
   "cell_type": "code",
   "execution_count": 85,
   "metadata": {},
   "outputs": [],
   "source": [
    "from sklearn.preprocessing import StandardScaler\n",
    "scaler = StandardScaler()\n",
    "X_train = scaler.fit_transform(X_train.to_numpy().reshape(-1,1))\n",
    "X_test = scaler.transform(X_test.to_numpy().reshape(-1,1))"
   ]
  },
  {
   "cell_type": "code",
   "execution_count": 86,
   "metadata": {},
   "outputs": [
    {
     "data": {
      "text/plain": [
       "array([[ 61448.20857375],\n",
       "       [115736.51059134],\n",
       "       [123224.55224894],\n",
       "       [ 65192.22940255],\n",
       "       [ 53960.16691615],\n",
       "       [ 64256.22419535]])"
      ]
     },
     "execution_count": 86,
     "metadata": {},
     "output_type": "execute_result"
    }
   ],
   "source": [
    "model1 = LinearRegressionWithGD(alpha=0.009,epochs=500)\n",
    "model1.fit(X_train,y_train)\n",
    "predictions = model1.predict(X_test)\n",
    "predictions"
   ]
  },
  {
   "cell_type": "code",
   "execution_count": 87,
   "metadata": {},
   "outputs": [
    {
     "name": "stdout",
     "output_type": "stream",
     "text": [
      "R2 Score:  0.9721191338874182\n",
      "MSE:  24436273.688854147\n",
      "MAE:  4069.589485515058\n"
     ]
    }
   ],
   "source": [
    "from sklearn.metrics import r2_score, mean_absolute_error, mean_squared_error\n",
    "print(\"R2 Score: \",r2_score(y_test,predictions))\n",
    "print(\"MSE: \",mean_squared_error(y_test,predictions))\n",
    "print(\"MAE: \",mean_absolute_error(y_test,predictions))"
   ]
  },
  {
   "cell_type": "code",
   "execution_count": 88,
   "metadata": {},
   "outputs": [
    {
     "data": {
      "image/png": "[encoded data removed]",
      "text/plain": [
       "<Figure size 640x480 with 1 Axes>"
      ]
     },
     "metadata": {},
     "output_type": "display_data"
    }
   ],
   "source": [
    "import matplotlib.pyplot as plt\n",
    "plt.scatter(X_train, y_train, c='red')\n",
    "plt.scatter(X_test, y_test, c='blue')\n",
    "plt.plot(X_test, (np.dot(X_test.reshape((X_test.shape[0],1)),model1.w_)+model1.b_), c='g',marker='o')\n",
    "plt.scatter(X_test, predictions.reshape(X_test.shape[0]), c='black')\n",
    "plt.show()"
   ]
  },
  {
   "cell_type": "code",
   "execution_count": 89,
   "metadata": {},
   "outputs": [
    {
     "data": {
      "image/png": "[encoded data removed]",
      "text/plain": [
       "<Figure size 640x480 with 1 Axes>"
      ]
     },
     "metadata": {},
     "output_type": "display_data"
    }
   ],
   "source": [
    "model1.plot_loss_with_epochs()"
   ]
  },
  {
   "cell_type": "code",
   "execution_count": 90,
   "metadata": {},
   "outputs": [
    {
     "name": "stdout",
     "output_type": "stream",
     "text": [
      "W0: 25580.069574767844\n",
      "b:  75527.28689871174\n"
     ]
    }
   ],
   "source": [
    "model1.parameter_values()"
   ]
  },
  {
   "cell_type": "code",
   "execution_count": null,
   "metadata": {},
   "outputs": [],
   "source": []
  }
 ],
 "metadata": {
  "kernelspec": {
   "display_name": "base",
   "language": "python",
   "name": "python3"
  },
  "language_info": {
   "codemirror_mode": {
    "name": "ipython",
    "version": 3
   },
   "file_extension": ".py",
   "mimetype": "text/x-python",
   "name": "python",
   "nbconvert_exporter": "python",
   "pygments_lexer": "ipython3",
   "version": "3.9.12"
  },
  "orig_nbformat": 4,
  "vscode": {
   "interpreter": {
    "hash": "3ef26ae64def31dd2af491ae64bd750868633f4444f69fd79cf74d36e9f525b4"
   }
  }
 },
 "nbformat": 4,
 "nbformat_minor": 2
}
