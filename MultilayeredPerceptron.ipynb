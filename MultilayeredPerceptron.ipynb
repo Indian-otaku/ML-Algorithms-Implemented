{
 "cells": [
  {
   "cell_type": "code",
   "execution_count": 1,
   "metadata": {},
   "outputs": [],
   "source": [
    "import numpy as np"
   ]
  },
  {
   "cell_type": "code",
   "execution_count": 657,
   "metadata": {},
   "outputs": [],
   "source": [
    "class MLP:\n",
    "    def __init__(self, n_inputs=5, hidden_layers=[4, 3, 3], n_outputs=2):\n",
    "        self.n_inputs = n_inputs\n",
    "        self.n_outputs = n_outputs\n",
    "        self.hidden_layers = hidden_layers\n",
    "\n",
    "        self.layers = [n_inputs] + hidden_layers + [n_outputs]\n",
    "\n",
    "        self.weights = []\n",
    "        for i in range(len(self.layers) - 1):\n",
    "            _w = np.random.rand(self.layers[i], self.layers[i + 1])\n",
    "            self.weights.append(_w)\n",
    "\n",
    "        self.outputs = []\n",
    "        for i in range(len(self.layers)):\n",
    "            _o = np.zeros(self.layers[i])\n",
    "            self.outputs.append(_o)\n",
    "\n",
    "        self.weight_gradients = []\n",
    "        for i in range(len(self.layers) - 1):\n",
    "            _g = np.zeros((self.layers[i], self.layers[i + 1]))\n",
    "            self.weight_gradients.append(_g)\n",
    "\n",
    "    def _sigmoid(self, X):\n",
    "        return 1 / (1 + np.exp(-X))\n",
    "\n",
    "    def _sigmoid_derivative(self, X):\n",
    "        sigmoid = self._sigmoid(X)\n",
    "        return sigmoid * (1 - sigmoid)\n",
    "\n",
    "    def forward_propogation(self, X):\n",
    "        output = X\n",
    "        self.outputs[0] = output\n",
    "        for i in range(len(self.weights)):\n",
    "            output = np.dot(output, self.weights[i])\n",
    "            output = self._sigmoid(output)\n",
    "            self.outputs[i + 1] = output\n",
    "\n",
    "        return output\n",
    "\n",
    "    def backward_propagation(self, error, learning_rate=0.1):\n",
    "        for i in reversed(range(len(self.weight_gradients))):\n",
    "            delta = error * self._sigmoid_derivative(self.outputs[i + 1])\n",
    "            self.weight_gradients[i] = np.dot(self.outputs[i].T, delta)\n",
    "            self.weights[i] = self.weights[i] - learning_rate * self.weight_gradients[i]\n",
    "            error = np.dot(delta, self.weights[i].T)\n",
    "\n",
    "    def train(self, X, y, n_epochs=10, learning_rate=0.1):\n",
    "        y_pred = self.forward_propogation(X)\n",
    "        error = y_pred - y\n",
    "\n",
    "        # Batched gradient descent.\n",
    "        for i in range(n_epochs):\n",
    "            self.backward_propagation(error, learning_rate=learning_rate)"
   ]
  },
  {
   "cell_type": "code",
   "execution_count": 658,
   "metadata": {},
   "outputs": [
    {
     "data": {
      "text/plain": [
       "[array([[0.91267081, 0.47186504, 0.28635759, 0.35631882, 0.18479119],\n",
       "        [0.92570175, 0.67690276, 0.80771062, 0.14464088, 0.28882909]]),\n",
       " array([[0.99245521, 0.04281589],\n",
       "        [0.14403246, 0.55520401],\n",
       "        [0.69863201, 0.68941947],\n",
       "        [0.45934191, 0.1310594 ],\n",
       "        [0.35070261, 0.55300024]])]"
      ]
     },
     "execution_count": 658,
     "metadata": {},
     "output_type": "execute_result"
    }
   ],
   "source": [
    "mlp = MLP(n_inputs=2, hidden_layers=[5], n_outputs=2)\n",
    "mlp.weights"
   ]
  },
  {
   "cell_type": "code",
   "execution_count": 659,
   "metadata": {},
   "outputs": [
    {
     "data": {
      "text/plain": [
       "[array([[0.91267081, 0.47186504, 0.28635759, 0.35631882, 0.18479119],\n",
       "        [0.92570175, 0.67690276, 0.80771062, 0.14464088, 0.28882909]]),\n",
       " array([[0.99245521, 0.04281589],\n",
       "        [0.14403246, 0.55520401],\n",
       "        [0.69863201, 0.68941947],\n",
       "        [0.45934191, 0.1310594 ],\n",
       "        [0.35070261, 0.55300024]])]"
      ]
     },
     "execution_count": 659,
     "metadata": {},
     "output_type": "execute_result"
    }
   ],
   "source": [
    "mlp.weights"
   ]
  },
  {
   "cell_type": "code",
   "execution_count": 660,
   "metadata": {},
   "outputs": [
    {
     "data": {
      "text/plain": [
       "[array([[0., 0., 0., 0., 0.],\n",
       "        [0., 0., 0., 0., 0.]]),\n",
       " array([[0., 0.],\n",
       "        [0., 0.],\n",
       "        [0., 0.],\n",
       "        [0., 0.],\n",
       "        [0., 0.]])]"
      ]
     },
     "execution_count": 660,
     "metadata": {},
     "output_type": "execute_result"
    }
   ],
   "source": [
    "mlp.weight_gradients"
   ]
  },
  {
   "cell_type": "code",
   "execution_count": 661,
   "metadata": {},
   "outputs": [],
   "source": [
    "x = np.concatenate([np.random.rand(5, 2), -np.random.rand(5, 2)])\n",
    "y = np.array(\n",
    "    [[1, 0], [1, 0], [1, 0], [1, 0], [1, 0], [0, 1], [0, 1], [0, 1], [0, 1], [0, 1]]\n",
    ")"
   ]
  },
  {
   "cell_type": "code",
   "execution_count": 662,
   "metadata": {},
   "outputs": [
    {
     "data": {
      "text/plain": [
       "((10, 2), (10, 2))"
      ]
     },
     "execution_count": 662,
     "metadata": {},
     "output_type": "execute_result"
    }
   ],
   "source": [
    "x.shape, y.shape"
   ]
  },
  {
   "cell_type": "code",
   "execution_count": 701,
   "metadata": {},
   "outputs": [
    {
     "name": "stdout",
     "output_type": "stream",
     "text": [
      "y pred:  [[0.96597292 0.02849641]\n",
      " [0.97797005 0.01928219]\n",
      " [0.95923184 0.03374905]\n",
      " [0.97831102 0.01901407]\n",
      " [0.95956871 0.03336097]\n",
      " [0.0511274  0.93684936]\n",
      " [0.02560733 0.96563041]\n",
      " [0.03564553 0.95401418]\n",
      " [0.02985503 0.96056726]\n",
      " [0.03284808 0.95745555]] y true:  [[1 0]\n",
      " [1 0]\n",
      " [1 0]\n",
      " [1 0]\n",
      " [1 0]\n",
      " [0 1]\n",
      " [0 1]\n",
      " [0 1]\n",
      " [0 1]\n",
      " [0 1]]\n",
      "diff:  [[-0.03402708  0.02849641]\n",
      " [-0.02202995  0.01928219]\n",
      " [-0.04076816  0.03374905]\n",
      " [-0.02168898  0.01901407]\n",
      " [-0.04043129  0.03336097]\n",
      " [ 0.0511274  -0.06315064]\n",
      " [ 0.02560733 -0.03436959]\n",
      " [ 0.03564553 -0.04598582]\n",
      " [ 0.02985503 -0.03943274]\n",
      " [ 0.03284808 -0.04254445]]\n"
     ]
    }
   ],
   "source": [
    "mlp.train(x, y, learning_rate=0.8)"
   ]
  },
  {
   "cell_type": "code",
   "execution_count": 524,
   "metadata": {},
   "outputs": [
    {
     "data": {
      "text/plain": [
       "[array([[0.51056273, 0.16882731, 0.77915055, 0.14547723, 0.67026609],\n",
       "        [0.66879042, 0.90033084, 0.36250304, 0.59518435, 0.16609523]]),\n",
       " array([[0.70368879, 0.60926578],\n",
       "        [0.05396637, 0.24030178],\n",
       "        [0.73990428, 0.36267883],\n",
       "        [0.58920265, 0.07766133],\n",
       "        [0.76043773, 0.26084411]])]"
      ]
     },
     "execution_count": 524,
     "metadata": {},
     "output_type": "execute_result"
    }
   ],
   "source": [
    "mlp.weights"
   ]
  },
  {
   "cell_type": "code",
   "execution_count": 525,
   "metadata": {},
   "outputs": [
    {
     "data": {
      "text/plain": [
       "[array([[ 0.58111443,  0.81755425],\n",
       "        [ 0.71014918,  0.02143243],\n",
       "        [ 0.96887708,  0.92736208],\n",
       "        [ 0.00637792,  0.82727616],\n",
       "        [ 0.0284312 ,  0.061791  ],\n",
       "        [-0.53789905, -0.6586294 ],\n",
       "        [-0.448355  , -0.04383255],\n",
       "        [-0.24430612, -0.2800475 ],\n",
       "        [-0.32013284, -0.04138332],\n",
       "        [-0.01418263, -0.71927023]]),\n",
       " array([[0.69924175, 0.69761121, 0.67850695, 0.63818683, 0.62764209],\n",
       "        [0.59313456, 0.53495456, 0.63642896, 0.52853423, 0.6172517 ],\n",
       "        [0.75308716, 0.73123081, 0.74801426, 0.66552623, 0.68978885],\n",
       "        [0.63569689, 0.67852728, 0.57531081, 0.62035773, 0.53488721],\n",
       "        [0.51396072, 0.5151324 , 0.51110035, 0.5101678 , 0.50727807],\n",
       "        [0.32842937, 0.33507839, 0.34164866, 0.38528844, 0.38527615],\n",
       "        [0.43579293, 0.47109715, 0.40988755, 0.47749215, 0.42392364],\n",
       "        [0.4226012 , 0.42701499, 0.4277506 , 0.44995176, 0.4479211 ],\n",
       "        [0.45235854, 0.47708233, 0.43441762, 0.4824314 , 0.44506475],\n",
       "        [0.38025627, 0.34277473, 0.43275047, 0.39455853, 0.46821859]]),\n",
       " array([[0.88404027, 0.78129717],\n",
       "        [0.86120923, 0.75297066],\n",
       "        [0.8999375 , 0.79801322],\n",
       "        [0.85998554, 0.75903453],\n",
       "        [0.82721352, 0.72366094],\n",
       "        [0.7502363 , 0.65740639],\n",
       "        [0.79187744, 0.69446912],\n",
       "        [0.79215865, 0.69215313],\n",
       "        [0.80036714, 0.70103864],\n",
       "        [0.78301239, 0.68061158]])]"
      ]
     },
     "execution_count": 525,
     "metadata": {},
     "output_type": "execute_result"
    }
   ],
   "source": [
    "mlp.outputs"
   ]
  },
  {
   "cell_type": "code",
   "execution_count": 485,
   "metadata": {},
   "outputs": [
    {
     "data": {
      "text/plain": [
       "(array([[0.83437951, 0.88727723],\n",
       "        [0.83460344, 0.88747566],\n",
       "        [0.8342642 , 0.88717466],\n",
       "        [0.83441957, 0.88731175],\n",
       "        [0.8345804 , 0.88745436],\n",
       "        [0.83347235, 0.88646988],\n",
       "        [0.83210534, 0.88524091],\n",
       "        [0.83288533, 0.88594502],\n",
       "        [0.83230204, 0.88542361],\n",
       "        [0.8320844 , 0.8852249 ]]),\n",
       " array([[1, 0],\n",
       "        [1, 0],\n",
       "        [1, 0],\n",
       "        [1, 0],\n",
       "        [1, 0],\n",
       "        [0, 1],\n",
       "        [0, 1],\n",
       "        [0, 1],\n",
       "        [0, 1],\n",
       "        [0, 1]]))"
      ]
     },
     "execution_count": 485,
     "metadata": {},
     "output_type": "execute_result"
    }
   ],
   "source": [
    "mlp.forward_propogation(x), y"
   ]
  },
  {
   "cell_type": "code",
   "execution_count": null,
   "metadata": {},
   "outputs": [],
   "source": []
  },
  {
   "cell_type": "code",
   "execution_count": null,
   "metadata": {},
   "outputs": [],
   "source": []
  }
 ],
 "metadata": {
  "kernelspec": {
   "display_name": "base",
   "language": "python",
   "name": "python3"
  },
  "language_info": {
   "codemirror_mode": {
    "name": "ipython",
    "version": 3
   },
   "file_extension": ".py",
   "mimetype": "text/x-python",
   "name": "python",
   "nbconvert_exporter": "python",
   "pygments_lexer": "ipython3",
   "version": "3.9.12"
  }
 },
 "nbformat": 4,
 "nbformat_minor": 2
}
